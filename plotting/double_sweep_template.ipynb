{
 "cells": [
  {
   "cell_type": "code",
   "execution_count": 1,
   "id": "764ef4dd",
   "metadata": {},
   "outputs": [],
   "source": [
    "import numpy as np\n",
    "import matplotlib.pyplot as plt\n",
    "from mpl_toolkits.axes_grid1.inset_locator import inset_axes\n",
    "import os\n",
    "import pickle\n",
    "import pandas as pd\n",
    "import glob\n",
    "import joblib as jl\n",
    "import json"
   ]
  },
  {
   "cell_type": "code",
   "execution_count": 16,
   "id": "119b40d5",
   "metadata": {},
   "outputs": [
    {
     "data": {
      "text/plain": [
       "1000"
      ]
     },
     "execution_count": 16,
     "metadata": {},
     "output_type": "execute_result"
    }
   ],
   "source": [
    "rootdir = \"/nfs/nhome/live/npatel/projects/Collective-learning-/plotting/collective_learning/test_ode/2025-09-14_09-22-18/T2lr1.0r_11.0r_21.0r_120.0tau_10.0tau_20.0J_10.073J_2-0.0238Q_10.989Q_21.02Q_12-0.00716S0.967epochs100savepoints100\"\n",
    "df=pd.read_pickle(os.path.join(rootdir, 'ode_results.pkl'))\n",
    "configs = json.load(open(os.path.join(rootdir, 'config.json')))\n",
    "\n",
    "epochs = configs['fixed']['epochs']\n",
    "savepoints = configs['fixed']['savepoints']\n",
    "steps = np.unique(np.logspace(0, np.log10(epochs - 1), num=savepoints, dtype=int))\n",
    "true_savepoints = np.shape(steps)[0]\n",
    "\n",
    "configs['fixed'].pop('epochs', None)\n",
    "configs['fixed'].pop('savepoints', None)\n",
    "configs['fixed'].pop('logdir', None)\n",
    "configs['fixed'].pop('epochs', None)\n",
    "configs['fixed'].pop('D', None)"
   ]
  },
  {
   "cell_type": "code",
   "execution_count": 17,
   "id": "c4b8ec85",
   "metadata": {},
   "outputs": [],
   "source": [
    "\n",
    "\n",
    "if 'r_1s' in configs['sweep']:\n",
    "    r_1_s = np.array(configs['sweep']['r_1s'])\n",
    "else:\n",
    "    r_1 = np.array(configs['fixed']['r_1s'])\n",
    "\n",
    "if 'r_2s' in configs['sweep']:\n",
    "    r_2_s = np.array(configs['sweep']['r_2s'])\n",
    "else:\n",
    "    r_2 = np.array(configs['fixed']['r_2s'])\n",
    "\n",
    "if 'r_12s' in configs['sweep']:\n",
    "    r_12_s = np.array(configs['sweep']['r_12s'])\n",
    "else:\n",
    "    r_12 = np.array(configs['fixed']['r_12s'])\n",
    "\n",
    "if 'tau_1s' in configs['sweep']:\n",
    "    tau_1_s = np.array(configs['sweep']['tau_1s'])\n",
    "else:\n",
    "    tau_1 = np.array(configs['fixed']['tau_1s'])\n",
    "\n",
    "if 'tau_2s' in configs['sweep']:\n",
    "    tau_2_s = np.array(configs['sweep']['tau_2s'])\n",
    "else:\n",
    "    tau_2 = np.array(configs['fixed']['tau_2s'])\n"
   ]
  },
  {
   "cell_type": "code",
   "execution_count": 18,
   "id": "320330fd",
   "metadata": {},
   "outputs": [
    {
     "name": "stdout",
     "output_type": "stream",
     "text": [
      "{'lr': 1.0, 'r_1': 1.0, 'r_2': 1.0, 'tau_1': 0.0, 'tau_2': 0.0, 'J_1_init': 0.07301539468923571, 'J_2_init': -0.02381823273429834, 'Q_1_init': 0.988561558575577, 'Q_2_init': 1.0177215858998647, 'Q_12_init': -0.007158579290475447, 'S': 0.9672523256140616}\n"
     ]
    }
   ],
   "source": [
    "\"\"\"\n",
    "set the fixed parameters\n",
    "\"\"\"\n",
    "fixed_param_names = list(configs['fixed'].keys())\n",
    "fixed_params = {}\n",
    "for key in fixed_param_names:\n",
    "    fixed_params[key[:-1]] = configs['fixed'][key][0]\n",
    "print(fixed_params)\n",
    "df_filtered = df.xs(tuple(fixed_params.values()), level=list(fixed_params.keys()))"
   ]
  },
  {
   "cell_type": "code",
   "execution_count": 24,
   "id": "564c50c9",
   "metadata": {},
   "outputs": [
    {
     "data": {
      "text/plain": [
       "0.9672523256140616"
      ]
     },
     "execution_count": 24,
     "metadata": {},
     "output_type": "execute_result"
    }
   ],
   "source": [
    "configs['fixed']['Ss'][0]"
   ]
  },
  {
   "cell_type": "code",
   "execution_count": 20,
   "id": "644599a8",
   "metadata": {},
   "outputs": [
    {
     "name": "stdout",
     "output_type": "stream",
     "text": [
      "{'Ts'} [2, 3, 4]\n",
      "{'r_12s'} [0.0, 10.0, 20.0]\n"
     ]
    }
   ],
   "source": [
    "\"\"\"\n",
    "print swept parameters and values\n",
    "\"\"\"\n",
    "sweep_param_names = list(configs['sweep'].keys())\n",
    "print({sweep_param_names[0]},  configs['sweep'][sweep_param_names[0]])\n",
    "print({sweep_param_names[1]},  configs['sweep'][sweep_param_names[1]])"
   ]
  },
  {
   "cell_type": "code",
   "execution_count": null,
   "id": "1227a311",
   "metadata": {},
   "outputs": [],
   "source": [
    "\"\"\"\n",
    "The following is for a brief preliminary visisualization of results, and is absolutely not necessary.\n",
    "The gist is to plot sweeps of trajectories for one of the parameters, while holding the other parameter fixed.\n",
    "But this is done for a few values of the second parameter, with an individual subplot for each value of the second parameter.\n",
    "\n",
    "The input would be be two lists of values for the two parameters being swept over\n",
    "(this would typically be the full list of values for one parameter, \n",
    "and a smaller list of values for the second parameter. N.B. the smaller list should be a subset of the full list)\n",
    "\n",
    "given df_filtered (filtered dataframe by fixed parameters),\n",
    "sweep_params (a list of values of the parameters being swept and plotted over)\n",
    "second_params (a (smaller) list of values of the secondary parameters being swept over and plotted in an outer loop)\n",
    "sweep_param_name (name of the parameter being swept over)\n",
    "second_param_name (name of the secondary parameter being 'swept' over)\n",
    "\"\"\"\n",
    "def plot_variable(df_filtered, variable, sweep_params, second_params, sweep_param_name, second_param_name, S, log_epochs):\n",
    "    sweep_length = len(sweep_params)\n",
    "    second_sweep_length = len(second_params)\n",
    "\n",
    "    if 'rhos' in configs['sweep']:\n",
    "        if 'rho' == sweep_param_name:\n",
    "            rhos = np.array(sweep_params)\n",
    "            Sr = S_r(rhos)\n",
    "            Sr = np.tile(Sr, (second_sweep_length, 1))\n",
    "            Si = S_i(rhos)\n",
    "            Si = np.tile(Si, (second_sweep_length, 1))\n",
    "\n",
    "        else:\n",
    "            rhos = np.array(second_params)\n",
    "            Sr = S_r(rhos)\n",
    "            Sr = np.tile(Sr, (1, sweep_length))\n",
    "            Si = S_i(rhos)\n",
    "            Si = np.tile(Si, (1, sweep_length))\n",
    "     \n",
    "    else:\n",
    "        rho = np.array(configs['fixed']['rhos'] * sweep_length)\n",
    "        Sr = S_r(rho)\n",
    "        Sr = np.tile(Sr, (second_sweep_length, 1))\n",
    "        Si = S_i(rho)\n",
    "        Si = np.tile(Si, (second_sweep_length, 1))\n",
    "\n",
    "    if 'deltas' in configs['sweep']:\n",
    "        if 'delta' == sweep_param_name:\n",
    "            deltas = np.array(sweep_params)\n",
    "            deltas = np.tile(deltas, (second_sweep_length, 1))\n",
    "        else:\n",
    "            deltas = np.array(second_params)\n",
    "            deltas = np.tile(deltas, (1, sweep_length))\n",
    "        deltas = np.array(configs['sweep']['deltas'])\n",
    "    else:\n",
    "        deltas = configs['fixed']['deltas'] * sweep_length\n",
    "\n",
    "    if 'epsilons' in configs['sweep']:\n",
    "        epsilons = np.array(configs['sweep']['epsilons'])\n",
    "    else:\n",
    "        epsilons = configs['fixed']['epsilons'] * sweep_length\n",
    "\n",
    "    fig, axes = plt.subplots(len(second_params), 3, figsize=(10, 3*len(second_params)), sharex=True)\n",
    "    for i, second_param in enumerate(second_params):\n",
    "        df_filtered_new = df_filtered.xs(second_param, level=second_param_name)\n",
    "        for param, row in df_filtered_new.iterrows():\n",
    "            J_1 = row['J_1']\n",
    "            J_2 = row['J_2']\n",
    "            Q_1 = row['Q_1']\n",
    "            Q_2 = row['Q_2']\n",
    "            Q_12 = row['Q_12']\n",
    "\n",
    "            axes[i,0].plot(log_epochs, J_1/np.sqrt(Q_1*S), label=f\"{second_param_name}={second_param:.3g}\")\n",
    "            axes[i,1].plot(log_epochs, J_2/np.sqrt(Q_2*S), label=f\"{second_param_name}={second_param:.3g}\")\n",
    "            axes[i,2].plot(log_epochs, Q_12/np.sqrt(Q_1*Q_2), label=f\"{second_param_name}={second_param:.3g}\")\n",
    "\n",
    "            axes[i,0].set_title(f\"rho_1 vs time (sweep over {sweep_param_name})\")\n",
    "            axes[i,1].set_title(f\"rho_2 vs time (sweep over {sweep_param_name})\")\n",
    "            axes[i,2].set_title(f\"12_overlap vs time (sweep over {sweep_param_name})\")\n",
    "\n",
    "            \"\"\"axes[i,0].legend()\n",
    "            axes[i,1].legend()\n",
    "            axes[i,2].legend()\"\"\"\n",
    "\n",
    "            axes[i,0].set_ylabel('rho_1')\n",
    "            axes[i,1].set_ylabel('rho_2')\n",
    "            axes[i,2].set_ylabel('12_overlap')\n",
    "            axes[i,0].grid(True)\n",
    "            axes[i,1].grid(True)\n",
    "            axes[i,2].grid(True)\n",
    "            axes[i,0].set_xscale('log')\n",
    "            axes[i,1].set_xscale('log')\n",
    "            axes[i,2].set_xscale('log')\n",
    "\n",
    "\n",
    "        for param in sweep_params:\n",
    "            try:\n",
    "                y_vals = df_filtered.loc[(rho, delta)][variable]\n",
    "                plt.plot(range(len(y_vals)), y_vals, label=f\"rho={rho}, delta={delta}\")\n",
    "            except KeyError:\n",
    "                print(f\"Skipping rho={rho}, delta={delta} (not found in data)\")\n",
    "                continue\n",
    "    plt.title(f\"{variable} over time for varying rho and delta\")\n",
    "    plt.xlabel(\"Time Step\")\n",
    "    plt.ylabel(variable)\n",
    "    plt.legend()\n",
    "    plt.grid(True)\n",
    "    plt.show()\n",
    "\n",
    "# Example: Plot R, Qr, and Qi\n",
    "plot_variable(df_filtered, 'R', rho_values_to_plot, delta_values_to_plot)\n",
    "plot_variable(df_filtered, 'Qr', rho_values_to_plot, delta_values_to_plot)\n",
    "plot_variable(df_filtered, 'Qi', rho_values_to_plot, delta_values_to_plot)\n"
   ]
  }
 ],
 "metadata": {
  "kernelspec": {
   "display_name": "jax_saad_solla_clean",
   "language": "python",
   "name": "python3"
  },
  "language_info": {
   "codemirror_mode": {
    "name": "ipython",
    "version": 3
   },
   "file_extension": ".py",
   "mimetype": "text/x-python",
   "name": "python",
   "nbconvert_exporter": "python",
   "pygments_lexer": "ipython3",
   "version": "3.12.7"
  }
 },
 "nbformat": 4,
 "nbformat_minor": 5
}
