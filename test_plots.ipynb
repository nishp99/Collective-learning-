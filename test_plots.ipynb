{
 "cells": [
  {
   "cell_type": "code",
   "execution_count": null,
   "id": "c748c767",
   "metadata": {},
   "outputs": [],
   "source": [
    "import numpy as np\n",
    "import matplotlib.pyplot as plt\n",
    "from mpl_toolkits.axes_grid1.inset_locator import inset_axes\n",
    "import os\n",
    "import sys\n",
    "import pickle\n",
    "import pandas as pd\n",
    "import glob\n",
    "import json\n",
    "\n",
    "import seaborn as sns\n",
    "# Set seaborn style as default\n",
    "sns.set(style=\"whitegrid\")\n",
    "# Adjust font sizes globally\n",
    "plt.rcParams.update({\n",
    "    \"font.size\": 14,  # Base font size\n",
    "    \"axes.titlesize\": 16,  # Title font size\n",
    "    \"axes.labelsize\": 14,  # Label font size\n",
    "    \"xtick.labelsize\": 12,  # X-axis tick label size\n",
    "    \"ytick.labelsize\": 12,  # Y-axis tick label size\n",
    "    \"legend.fontsize\": 12  # Legend font size\n",
    "})"
   ]
  },
  {
   "cell_type": "code",
   "execution_count": 10,
   "id": "c1e743ff",
   "metadata": {},
   "outputs": [],
   "source": [
    "from main_exp import Run_simulation, create_teacher, create_student, create_key, random_seed\n",
    "from main_ode import ODE_solver"
   ]
  },
  {
   "cell_type": "code",
   "execution_count": 11,
   "id": "a30e3014",
   "metadata": {},
   "outputs": [
    {
     "name": "stdout",
     "output_type": "stream",
     "text": [
      "['Collaborative_ALL', 'Individual_ALL', 'Reward', 'Run_simulation', 'Update_student_D_times', '__builtins__', '__cached__', '__doc__', '__file__', '__loader__', '__name__', '__package__', '__spec__', 'argparse', 'create_key', 'create_student', 'create_teacher', 'jax', 'jit', 'jnp', 'lax', 'lookup_index', 'np', 'order_params_ode', 'random', 'random_seed', 'sample_observations', 'student_actions', 'student_update', 'teacher_decisions']\n"
     ]
    }
   ],
   "source": [
    "import main_exp\n",
    "print(dir(main_exp))"
   ]
  },
  {
   "cell_type": "code",
   "execution_count": 12,
   "id": "23c9b637",
   "metadata": {},
   "outputs": [],
   "source": [
    "T= 6\n",
    "lr=1.0\n",
    "r_1=1.0\n",
    "r_2=1.0\n",
    "r_12=1.0\n",
    "tau_1=0.0\n",
    "tau_2=0.0\n",
    "\n",
    "D=16\n",
    "n=2\n",
    "epochs=50\n",
    "savepoints=3"
   ]
  },
  {
   "cell_type": "code",
   "execution_count": 15,
   "id": "46381e7c",
   "metadata": {},
   "outputs": [
    {
     "name": "stderr",
     "output_type": "stream",
     "text": [
      "WARNING:2025-08-27 18:19:24,334:jax._src.xla_bridge:1018: Platform 'METAL' is experimental and not all JAX functionality may be correctly supported!\n",
      "WARNING: All log messages before absl::InitializeLog() is called are written to STDERR\n",
      "W0000 00:00:1756315164.336010 13412375 mps_client.cc:510] WARNING: JAX Apple GPU support is experimental and not all JAX functionality is correctly supported!\n",
      "I0000 00:00:1756315164.351162 13412375 service.cc:145] XLA service 0x15c642250 initialized for platform METAL (this does not guarantee that XLA will be used). Devices:\n",
      "I0000 00:00:1756315164.351314 13412375 service.cc:153]   StreamExecutor device (0): Metal, <undefined>\n",
      "I0000 00:00:1756315164.352804 13412375 mps_client.cc:406] Using Simple allocator.\n",
      "I0000 00:00:1756315164.352813 13412375 mps_client.cc:384] XLA backend will use up to 11452858368 bytes on device 0 for SimpleAllocator.\n"
     ]
    },
    {
     "name": "stdout",
     "output_type": "stream",
     "text": [
      "Metal device set to: Apple M2 Pro\n",
      "\n",
      "systemMemory: 16.00 GB\n",
      "maxCacheSize: 5.33 GB\n",
      "\n"
     ]
    },
    {
     "ename": "XlaRuntimeError",
     "evalue": "UNKNOWN: /Users/nishil/Documents/PhD/Gatsby/projects/Collective-learning-/main_exp.py:66:10: error: failed to legalize operation 'mhlo.cholesky'\n    X_s = random.multivariate_normal(key, mean=jnp.zeros(D), cov=jnp.eye(D), shape=(n, T, D))\n         ^\n/Users/nishil/Documents/PhD/Gatsby/projects/Collective-learning-/main_exp.py:66:10: note: called from\n    X_s = random.multivariate_normal(key, mean=jnp.zeros(D), cov=jnp.eye(D), shape=(n, T, D))\n         ^\n/Users/nishil/Documents/PhD/Gatsby/projects/Collective-learning-/main_exp.py:191:14: note: called from\n        X_s = sample_observations(T, D, n, x_key)\n             ^\n/var/folders/tl/vb6mhsbs0076vp9s0l10rkg80000gn/T/ipykernel_66140/307626768.py:5:37: note: called from\n<frozen runpy>:88:4: note: called from\n<frozen runpy>:198:11: note: called from\n/Users/nishil/Documents/PhD/Gatsby/projects/Collective-learning-/main_exp.py:66:10: note: see current operation: %108 = \"mhlo.cholesky\"(%107) {lower = true} : (tensor<16x16xf32>) -> tensor<16x16xf32>\n    X_s = random.multivariate_normal(key, mean=jnp.zeros(D), cov=jnp.eye(D), shape=(n, T, D))\n         ^\n",
     "output_type": "error",
     "traceback": [
      "\u001b[31m---------------------------------------------------------------------------\u001b[39m",
      "\u001b[31mXlaRuntimeError\u001b[39m                           Traceback (most recent call last)",
      "\u001b[36mCell\u001b[39m\u001b[36m \u001b[39m\u001b[32mIn[15]\u001b[39m\u001b[32m, line 5\u001b[39m\n\u001b[32m      2\u001b[39m students_1 = create_student(D, n, create_key(random_seed()))\n\u001b[32m      3\u001b[39m students_2 = create_student(D, n, create_key(random_seed()))\n\u001b[32m----> \u001b[39m\u001b[32m5\u001b[39m J_1_s, J_2_s, Q_1_s, Q_2_s, Q_12_s = \u001b[43mRun_simulation\u001b[49m\u001b[43m(\u001b[49m\u001b[43mD\u001b[49m\u001b[43m,\u001b[49m\u001b[43m \u001b[49m\u001b[43mn\u001b[49m\u001b[43m,\u001b[49m\u001b[43m \u001b[49m\u001b[43mlr\u001b[49m\u001b[43m,\u001b[49m\u001b[43m \u001b[49m\u001b[43mteacher\u001b[49m\u001b[43m,\u001b[49m\u001b[43m \u001b[49m\u001b[43mstudents_1\u001b[49m\u001b[43m,\u001b[49m\u001b[43m \u001b[49m\u001b[43mstudents_2\u001b[49m\u001b[43m,\u001b[49m\u001b[43m \u001b[49m\u001b[43mT\u001b[49m\u001b[43m,\u001b[49m\u001b[43m \u001b[49m\u001b[43mr_1\u001b[49m\u001b[43m,\u001b[49m\u001b[43m \u001b[49m\u001b[43mr_2\u001b[49m\u001b[43m,\u001b[49m\u001b[43m \u001b[49m\u001b[43mr_12\u001b[49m\u001b[43m,\u001b[49m\u001b[43m \u001b[49m\u001b[43mtau_1\u001b[49m\u001b[43m,\u001b[49m\u001b[43m \u001b[49m\u001b[43mtau_2\u001b[49m\u001b[43m,\u001b[49m\u001b[43m \u001b[49m\u001b[43mepochs\u001b[49m\u001b[43m,\u001b[49m\u001b[43m \u001b[49m\u001b[43msavepoints\u001b[49m\u001b[43m)\u001b[49m\n",
      "\u001b[36mFile \u001b[39m\u001b[32m~/Documents/PhD/Gatsby/projects/Collective-learning-/main_exp.py:191\u001b[39m, in \u001b[36mRun_simulation\u001b[39m\u001b[34m(D, n, lr, teacher, students_1, students_2, T, r_1, r_2, r_12, tau_1, tau_2, epochs, savepoints)\u001b[39m\n\u001b[32m    188\u001b[39m Q_12_s = Q_12_s.at[index, :].set(Q_12)\n\u001b[32m    190\u001b[39m x_key = create_key(random_seed())\n\u001b[32m--> \u001b[39m\u001b[32m191\u001b[39m X_s = \u001b[43msample_observations\u001b[49m\u001b[43m(\u001b[49m\u001b[43mT\u001b[49m\u001b[43m,\u001b[49m\u001b[43m \u001b[49m\u001b[43mD\u001b[49m\u001b[43m,\u001b[49m\u001b[43m \u001b[49m\u001b[43mn\u001b[49m\u001b[43m,\u001b[49m\u001b[43m \u001b[49m\u001b[43mx_key\u001b[49m\u001b[43m)\u001b[49m\n\u001b[32m    192\u001b[39m Y_t_s = teacher_decisions(teacher, X_s, T)\n\u001b[32m    194\u001b[39m students_1, students_2, J_1, J_2, Q_1, Q_2, Q_12 = Update_student_D_times(teacher, students_1, students_2, X_s, Y_t_s, \n\u001b[32m    195\u001b[39m                                                                           D, T, lr, r_1, r_2, r_12, tau_1, tau_2)\n",
      "\u001b[36mFile \u001b[39m\u001b[32m~/Documents/PhD/Gatsby/projects/Collective-learning-/main_exp.py:66\u001b[39m, in \u001b[36msample_observations\u001b[39m\u001b[34m(T, D, n, key)\u001b[39m\n\u001b[32m     65\u001b[39m \u001b[38;5;28;01mdef\u001b[39;00m\u001b[38;5;250m \u001b[39m\u001b[34msample_observations\u001b[39m(T, D, n, key):\n\u001b[32m---> \u001b[39m\u001b[32m66\u001b[39m     X_s = \u001b[43mrandom\u001b[49m\u001b[43m.\u001b[49m\u001b[43mmultivariate_normal\u001b[49m\u001b[43m(\u001b[49m\u001b[43mkey\u001b[49m\u001b[43m,\u001b[49m\u001b[43m \u001b[49m\u001b[43mmean\u001b[49m\u001b[43m=\u001b[49m\u001b[43mjnp\u001b[49m\u001b[43m.\u001b[49m\u001b[43mzeros\u001b[49m\u001b[43m(\u001b[49m\u001b[43mD\u001b[49m\u001b[43m)\u001b[49m\u001b[43m,\u001b[49m\u001b[43m \u001b[49m\u001b[43mcov\u001b[49m\u001b[43m=\u001b[49m\u001b[43mjnp\u001b[49m\u001b[43m.\u001b[49m\u001b[43meye\u001b[49m\u001b[43m(\u001b[49m\u001b[43mD\u001b[49m\u001b[43m)\u001b[49m\u001b[43m,\u001b[49m\u001b[43m \u001b[49m\u001b[43mshape\u001b[49m\u001b[43m=\u001b[49m\u001b[43m(\u001b[49m\u001b[43mn\u001b[49m\u001b[43m,\u001b[49m\u001b[43m \u001b[49m\u001b[43mT\u001b[49m\u001b[43m,\u001b[49m\u001b[43m \u001b[49m\u001b[43mD\u001b[49m\u001b[43m)\u001b[49m\u001b[43m)\u001b[49m\n\u001b[32m     67\u001b[39m     \u001b[38;5;28;01mreturn\u001b[39;00m X_s\n",
      "\u001b[36mFile \u001b[39m\u001b[32m~/miniforge3/envs/jax_metal_gpu/lib/python3.11/site-packages/jax/_src/random.py:782\u001b[39m, in \u001b[36mmultivariate_normal\u001b[39m\u001b[34m(key, mean, cov, shape, dtype, method)\u001b[39m\n\u001b[32m    780\u001b[39m \u001b[38;5;28;01mif\u001b[39;00m shape \u001b[38;5;129;01mis\u001b[39;00m \u001b[38;5;129;01mnot\u001b[39;00m \u001b[38;5;28;01mNone\u001b[39;00m:\n\u001b[32m    781\u001b[39m   shape = core.canonicalize_shape(shape)\n\u001b[32m--> \u001b[39m\u001b[32m782\u001b[39m \u001b[38;5;28;01mreturn\u001b[39;00m \u001b[43m_multivariate_normal\u001b[49m\u001b[43m(\u001b[49m\u001b[43mkey\u001b[49m\u001b[43m,\u001b[49m\u001b[43m \u001b[49m\u001b[43mmean\u001b[49m\u001b[43m,\u001b[49m\u001b[43m \u001b[49m\u001b[43mcov\u001b[49m\u001b[43m,\u001b[49m\u001b[43m \u001b[49m\u001b[43mshape\u001b[49m\u001b[43m,\u001b[49m\u001b[43m \u001b[49m\u001b[43mdtype\u001b[49m\u001b[43m,\u001b[49m\u001b[43m \u001b[49m\u001b[43mmethod\u001b[49m\u001b[43m)\u001b[49m\n",
      "    \u001b[31m[... skipping hidden 10 frame]\u001b[39m\n",
      "\u001b[36mFile \u001b[39m\u001b[32m~/miniforge3/envs/jax_metal_gpu/lib/python3.11/site-packages/jax/_src/compiler.py:315\u001b[39m, in \u001b[36mbackend_compile\u001b[39m\u001b[34m(backend, module, options, host_callbacks)\u001b[39m\n\u001b[32m    309\u001b[39m     \u001b[38;5;28;01mreturn\u001b[39;00m backend.compile(\n\u001b[32m    310\u001b[39m         built_c, compile_options=options, host_callbacks=host_callbacks\n\u001b[32m    311\u001b[39m     )\n\u001b[32m    312\u001b[39m   \u001b[38;5;66;03m# Some backends don't have `host_callbacks` option yet\u001b[39;00m\n\u001b[32m    313\u001b[39m   \u001b[38;5;66;03m# TODO(sharadmv): remove this fallback when all backends allow `compile`\u001b[39;00m\n\u001b[32m    314\u001b[39m   \u001b[38;5;66;03m# to take in `host_callbacks`\u001b[39;00m\n\u001b[32m--> \u001b[39m\u001b[32m315\u001b[39m   \u001b[38;5;28;01mreturn\u001b[39;00m \u001b[43mbackend\u001b[49m\u001b[43m.\u001b[49m\u001b[43mcompile\u001b[49m\u001b[43m(\u001b[49m\u001b[43mbuilt_c\u001b[49m\u001b[43m,\u001b[49m\u001b[43m \u001b[49m\u001b[43mcompile_options\u001b[49m\u001b[43m=\u001b[49m\u001b[43moptions\u001b[49m\u001b[43m)\u001b[49m\n\u001b[32m    316\u001b[39m \u001b[38;5;28;01mexcept\u001b[39;00m xc.XlaRuntimeError \u001b[38;5;28;01mas\u001b[39;00m e:\n\u001b[32m    317\u001b[39m   \u001b[38;5;28;01mfor\u001b[39;00m error_handler \u001b[38;5;129;01min\u001b[39;00m _XLA_RUNTIME_ERROR_HANDLERS:\n",
      "\u001b[31mXlaRuntimeError\u001b[39m: UNKNOWN: /Users/nishil/Documents/PhD/Gatsby/projects/Collective-learning-/main_exp.py:66:10: error: failed to legalize operation 'mhlo.cholesky'\n    X_s = random.multivariate_normal(key, mean=jnp.zeros(D), cov=jnp.eye(D), shape=(n, T, D))\n         ^\n/Users/nishil/Documents/PhD/Gatsby/projects/Collective-learning-/main_exp.py:66:10: note: called from\n    X_s = random.multivariate_normal(key, mean=jnp.zeros(D), cov=jnp.eye(D), shape=(n, T, D))\n         ^\n/Users/nishil/Documents/PhD/Gatsby/projects/Collective-learning-/main_exp.py:191:14: note: called from\n        X_s = sample_observations(T, D, n, x_key)\n             ^\n/var/folders/tl/vb6mhsbs0076vp9s0l10rkg80000gn/T/ipykernel_66140/307626768.py:5:37: note: called from\n<frozen runpy>:88:4: note: called from\n<frozen runpy>:198:11: note: called from\n/Users/nishil/Documents/PhD/Gatsby/projects/Collective-learning-/main_exp.py:66:10: note: see current operation: %108 = \"mhlo.cholesky\"(%107) {lower = true} : (tensor<16x16xf32>) -> tensor<16x16xf32>\n    X_s = random.multivariate_normal(key, mean=jnp.zeros(D), cov=jnp.eye(D), shape=(n, T, D))\n         ^\n"
     ]
    }
   ],
   "source": [
    "teacher = create_teacher(D, create_key(random_seed()))\n",
    "students_1 = create_student(D, n, create_key(random_seed()))\n",
    "students_2 = create_student(D, n, create_key(random_seed()))\n",
    "\n",
    "J_1_s, J_2_s, Q_1_s, Q_2_s, Q_12_s = Run_simulation(D, n, lr, teacher, students_1, students_2, T, r_1, r_2, r_12, tau_1, tau_2, epochs, savepoints)"
   ]
  },
  {
   "cell_type": "code",
   "execution_count": 5,
   "id": "f3653047",
   "metadata": {},
   "outputs": [
    {
     "ename": "ModuleNotFoundError",
     "evalue": "No module named 'jax'",
     "output_type": "error",
     "traceback": [
      "\u001b[0;31m---------------------------------------------------------------------------\u001b[0m",
      "\u001b[0;31mModuleNotFoundError\u001b[0m                       Traceback (most recent call last)",
      "File \u001b[0;32m~/miniforge3/envs/jupyterenv/lib/python3.12/site-packages/pandas/io/pickle.py:202\u001b[0m, in \u001b[0;36mread_pickle\u001b[0;34m(filepath_or_buffer, compression, storage_options)\u001b[0m\n\u001b[1;32m    201\u001b[0m         warnings\u001b[38;5;241m.\u001b[39msimplefilter(\u001b[38;5;124m\"\u001b[39m\u001b[38;5;124mignore\u001b[39m\u001b[38;5;124m\"\u001b[39m, \u001b[38;5;167;01mWarning\u001b[39;00m)\n\u001b[0;32m--> 202\u001b[0m         \u001b[38;5;28;01mreturn\u001b[39;00m \u001b[43mpickle\u001b[49m\u001b[38;5;241;43m.\u001b[39;49m\u001b[43mload\u001b[49m\u001b[43m(\u001b[49m\u001b[43mhandles\u001b[49m\u001b[38;5;241;43m.\u001b[39;49m\u001b[43mhandle\u001b[49m\u001b[43m)\u001b[49m\n\u001b[1;32m    203\u001b[0m \u001b[38;5;28;01mexcept\u001b[39;00m excs_to_catch:\n\u001b[1;32m    204\u001b[0m     \u001b[38;5;66;03m# e.g.\u001b[39;00m\n\u001b[1;32m    205\u001b[0m     \u001b[38;5;66;03m#  \"No module named 'pandas.core.sparse.series'\"\u001b[39;00m\n\u001b[1;32m    206\u001b[0m     \u001b[38;5;66;03m#  \"Can't get attribute '__nat_unpickle' on <module 'pandas._libs.tslib\"\u001b[39;00m\n",
      "\u001b[0;31mModuleNotFoundError\u001b[0m: No module named 'jax'",
      "\nDuring handling of the above exception, another exception occurred:\n",
      "\u001b[0;31mModuleNotFoundError\u001b[0m                       Traceback (most recent call last)",
      "Cell \u001b[0;32mIn[5], line 2\u001b[0m\n\u001b[1;32m      1\u001b[0m rootdir \u001b[38;5;241m=\u001b[39m \u001b[38;5;124m'\u001b[39m\u001b[38;5;124m/Users/nishil/Documents/PhD/Gatsby/projects/Collective-learning-/local_logs/test_ode/2025-08-21_13-48-58/r_11.0r_21.0r_121.0tau_10.0tau_20.0epochs100savepoints100\u001b[39m\u001b[38;5;124m'\u001b[39m\n\u001b[0;32m----> 2\u001b[0m data\u001b[38;5;241m=\u001b[39m\u001b[43mpd\u001b[49m\u001b[38;5;241;43m.\u001b[39;49m\u001b[43mread_pickle\u001b[49m\u001b[43m(\u001b[49m\u001b[43mos\u001b[49m\u001b[38;5;241;43m.\u001b[39;49m\u001b[43mpath\u001b[49m\u001b[38;5;241;43m.\u001b[39;49m\u001b[43mjoin\u001b[49m\u001b[43m(\u001b[49m\u001b[43mrootdir\u001b[49m\u001b[43m,\u001b[49m\u001b[43m \u001b[49m\u001b[38;5;124;43m'\u001b[39;49m\u001b[38;5;124;43mode_results.pkl\u001b[39;49m\u001b[38;5;124;43m'\u001b[39;49m\u001b[43m)\u001b[49m\u001b[43m)\u001b[49m\n\u001b[1;32m      4\u001b[0m configs \u001b[38;5;241m=\u001b[39m json\u001b[38;5;241m.\u001b[39mload(\u001b[38;5;28mopen\u001b[39m(os\u001b[38;5;241m.\u001b[39mpath\u001b[38;5;241m.\u001b[39mjoin(rootdir, \u001b[38;5;124m'\u001b[39m\u001b[38;5;124mconfig.json\u001b[39m\u001b[38;5;124m'\u001b[39m)))\n\u001b[1;32m      5\u001b[0m variables \u001b[38;5;241m=\u001b[39m \u001b[38;5;28mlist\u001b[39m(configs[\u001b[38;5;124m'\u001b[39m\u001b[38;5;124msweep\u001b[39m\u001b[38;5;124m'\u001b[39m]\u001b[38;5;241m.\u001b[39mvalues())[\u001b[38;5;241m0\u001b[39m]\n",
      "File \u001b[0;32m~/miniforge3/envs/jupyterenv/lib/python3.12/site-packages/pandas/io/pickle.py:207\u001b[0m, in \u001b[0;36mread_pickle\u001b[0;34m(filepath_or_buffer, compression, storage_options)\u001b[0m\n\u001b[1;32m    202\u001b[0m             \u001b[38;5;28;01mreturn\u001b[39;00m pickle\u001b[38;5;241m.\u001b[39mload(handles\u001b[38;5;241m.\u001b[39mhandle)\n\u001b[1;32m    203\u001b[0m     \u001b[38;5;28;01mexcept\u001b[39;00m excs_to_catch:\n\u001b[1;32m    204\u001b[0m         \u001b[38;5;66;03m# e.g.\u001b[39;00m\n\u001b[1;32m    205\u001b[0m         \u001b[38;5;66;03m#  \"No module named 'pandas.core.sparse.series'\"\u001b[39;00m\n\u001b[1;32m    206\u001b[0m         \u001b[38;5;66;03m#  \"Can't get attribute '__nat_unpickle' on <module 'pandas._libs.tslib\"\u001b[39;00m\n\u001b[0;32m--> 207\u001b[0m         \u001b[38;5;28;01mreturn\u001b[39;00m \u001b[43mpc\u001b[49m\u001b[38;5;241;43m.\u001b[39;49m\u001b[43mload\u001b[49m\u001b[43m(\u001b[49m\u001b[43mhandles\u001b[49m\u001b[38;5;241;43m.\u001b[39;49m\u001b[43mhandle\u001b[49m\u001b[43m,\u001b[49m\u001b[43m \u001b[49m\u001b[43mencoding\u001b[49m\u001b[38;5;241;43m=\u001b[39;49m\u001b[38;5;28;43;01mNone\u001b[39;49;00m\u001b[43m)\u001b[49m\n\u001b[1;32m    208\u001b[0m \u001b[38;5;28;01mexcept\u001b[39;00m \u001b[38;5;167;01mUnicodeDecodeError\u001b[39;00m:\n\u001b[1;32m    209\u001b[0m     \u001b[38;5;66;03m# e.g. can occur for files written in py27; see GH#28645 and GH#31988\u001b[39;00m\n\u001b[1;32m    210\u001b[0m     \u001b[38;5;28;01mreturn\u001b[39;00m pc\u001b[38;5;241m.\u001b[39mload(handles\u001b[38;5;241m.\u001b[39mhandle, encoding\u001b[38;5;241m=\u001b[39m\u001b[38;5;124m\"\u001b[39m\u001b[38;5;124mlatin-1\u001b[39m\u001b[38;5;124m\"\u001b[39m)\n",
      "File \u001b[0;32m~/miniforge3/envs/jupyterenv/lib/python3.12/site-packages/pandas/compat/pickle_compat.py:231\u001b[0m, in \u001b[0;36mload\u001b[0;34m(fh, encoding, is_verbose)\u001b[0m\n\u001b[1;32m    228\u001b[0m     \u001b[38;5;66;03m# \"Unpickler\" has no attribute \"is_verbose\"  [attr-defined]\u001b[39;00m\n\u001b[1;32m    229\u001b[0m     up\u001b[38;5;241m.\u001b[39mis_verbose \u001b[38;5;241m=\u001b[39m is_verbose  \u001b[38;5;66;03m# type: ignore[attr-defined]\u001b[39;00m\n\u001b[0;32m--> 231\u001b[0m     \u001b[38;5;28;01mreturn\u001b[39;00m \u001b[43mup\u001b[49m\u001b[38;5;241;43m.\u001b[39;49m\u001b[43mload\u001b[49m\u001b[43m(\u001b[49m\u001b[43m)\u001b[49m\n\u001b[1;32m    232\u001b[0m \u001b[38;5;28;01mexcept\u001b[39;00m (\u001b[38;5;167;01mValueError\u001b[39;00m, \u001b[38;5;167;01mTypeError\u001b[39;00m):\n\u001b[1;32m    233\u001b[0m     \u001b[38;5;28;01mraise\u001b[39;00m\n",
      "File \u001b[0;32m~/miniforge3/envs/jupyterenv/lib/python3.12/pickle.py:1205\u001b[0m, in \u001b[0;36m_Unpickler.load\u001b[0;34m(self)\u001b[0m\n\u001b[1;32m   1203\u001b[0m             \u001b[38;5;28;01mraise\u001b[39;00m \u001b[38;5;167;01mEOFError\u001b[39;00m\n\u001b[1;32m   1204\u001b[0m         \u001b[38;5;28;01massert\u001b[39;00m \u001b[38;5;28misinstance\u001b[39m(key, bytes_types)\n\u001b[0;32m-> 1205\u001b[0m         \u001b[43mdispatch\u001b[49m\u001b[43m[\u001b[49m\u001b[43mkey\u001b[49m\u001b[43m[\u001b[49m\u001b[38;5;241;43m0\u001b[39;49m\u001b[43m]\u001b[49m\u001b[43m]\u001b[49m\u001b[43m(\u001b[49m\u001b[38;5;28;43mself\u001b[39;49m\u001b[43m)\u001b[49m\n\u001b[1;32m   1206\u001b[0m \u001b[38;5;28;01mexcept\u001b[39;00m _Stop \u001b[38;5;28;01mas\u001b[39;00m stopinst:\n\u001b[1;32m   1207\u001b[0m     \u001b[38;5;28;01mreturn\u001b[39;00m stopinst\u001b[38;5;241m.\u001b[39mvalue\n",
      "File \u001b[0;32m~/miniforge3/envs/jupyterenv/lib/python3.12/pickle.py:1530\u001b[0m, in \u001b[0;36m_Unpickler.load_stack_global\u001b[0;34m(self)\u001b[0m\n\u001b[1;32m   1528\u001b[0m \u001b[38;5;28;01mif\u001b[39;00m \u001b[38;5;28mtype\u001b[39m(name) \u001b[38;5;129;01mis\u001b[39;00m \u001b[38;5;129;01mnot\u001b[39;00m \u001b[38;5;28mstr\u001b[39m \u001b[38;5;129;01mor\u001b[39;00m \u001b[38;5;28mtype\u001b[39m(module) \u001b[38;5;129;01mis\u001b[39;00m \u001b[38;5;129;01mnot\u001b[39;00m \u001b[38;5;28mstr\u001b[39m:\n\u001b[1;32m   1529\u001b[0m     \u001b[38;5;28;01mraise\u001b[39;00m UnpicklingError(\u001b[38;5;124m\"\u001b[39m\u001b[38;5;124mSTACK_GLOBAL requires str\u001b[39m\u001b[38;5;124m\"\u001b[39m)\n\u001b[0;32m-> 1530\u001b[0m \u001b[38;5;28mself\u001b[39m\u001b[38;5;241m.\u001b[39mappend(\u001b[38;5;28;43mself\u001b[39;49m\u001b[38;5;241;43m.\u001b[39;49m\u001b[43mfind_class\u001b[49m\u001b[43m(\u001b[49m\u001b[43mmodule\u001b[49m\u001b[43m,\u001b[49m\u001b[43m \u001b[49m\u001b[43mname\u001b[49m\u001b[43m)\u001b[49m)\n",
      "File \u001b[0;32m~/miniforge3/envs/jupyterenv/lib/python3.12/site-packages/pandas/compat/pickle_compat.py:162\u001b[0m, in \u001b[0;36mUnpickler.find_class\u001b[0;34m(self, module, name)\u001b[0m\n\u001b[1;32m    160\u001b[0m key \u001b[38;5;241m=\u001b[39m (module, name)\n\u001b[1;32m    161\u001b[0m module, name \u001b[38;5;241m=\u001b[39m _class_locations_map\u001b[38;5;241m.\u001b[39mget(key, key)\n\u001b[0;32m--> 162\u001b[0m \u001b[38;5;28;01mreturn\u001b[39;00m \u001b[38;5;28;43msuper\u001b[39;49m\u001b[43m(\u001b[49m\u001b[43m)\u001b[49m\u001b[38;5;241;43m.\u001b[39;49m\u001b[43mfind_class\u001b[49m\u001b[43m(\u001b[49m\u001b[43mmodule\u001b[49m\u001b[43m,\u001b[49m\u001b[43m \u001b[49m\u001b[43mname\u001b[49m\u001b[43m)\u001b[49m\n",
      "File \u001b[0;32m~/miniforge3/envs/jupyterenv/lib/python3.12/pickle.py:1572\u001b[0m, in \u001b[0;36m_Unpickler.find_class\u001b[0;34m(self, module, name)\u001b[0m\n\u001b[1;32m   1570\u001b[0m     \u001b[38;5;28;01melif\u001b[39;00m module \u001b[38;5;129;01min\u001b[39;00m _compat_pickle\u001b[38;5;241m.\u001b[39mIMPORT_MAPPING:\n\u001b[1;32m   1571\u001b[0m         module \u001b[38;5;241m=\u001b[39m _compat_pickle\u001b[38;5;241m.\u001b[39mIMPORT_MAPPING[module]\n\u001b[0;32m-> 1572\u001b[0m \u001b[38;5;28;43m__import__\u001b[39;49m\u001b[43m(\u001b[49m\u001b[43mmodule\u001b[49m\u001b[43m,\u001b[49m\u001b[43m \u001b[49m\u001b[43mlevel\u001b[49m\u001b[38;5;241;43m=\u001b[39;49m\u001b[38;5;241;43m0\u001b[39;49m\u001b[43m)\u001b[49m\n\u001b[1;32m   1573\u001b[0m \u001b[38;5;28;01mif\u001b[39;00m \u001b[38;5;28mself\u001b[39m\u001b[38;5;241m.\u001b[39mproto \u001b[38;5;241m>\u001b[39m\u001b[38;5;241m=\u001b[39m \u001b[38;5;241m4\u001b[39m:\n\u001b[1;32m   1574\u001b[0m     \u001b[38;5;28;01mreturn\u001b[39;00m _getattribute(sys\u001b[38;5;241m.\u001b[39mmodules[module], name)[\u001b[38;5;241m0\u001b[39m]\n",
      "\u001b[0;31mModuleNotFoundError\u001b[0m: No module named 'jax'"
     ]
    }
   ],
   "source": [
    "rootdir = '/Users/nishil/Documents/PhD/Gatsby/projects/Collective-learning-/local_logs/test_ode/2025-08-21_13-48-58/r_11.0r_21.0r_121.0tau_10.0tau_20.0epochs100savepoints100'\n",
    "data=pd.read_pickle(os.path.join(rootdir, 'ode_results.pkl'))\n",
    "\n",
    "configs = json.load(open(os.path.join(rootdir, 'config.json')))\n",
    "variables = list(configs['sweep'].values())[0]\n",
    "variable_name = list(configs['sweep'].keys())[0]\n",
    "epochs = configs['fixed']['epochs']\n",
    "savepoints = configs['fixed']['savepoints']\n",
    "steps = np.unique(np.logspace(0, np.log10(epochs - 1), num=savepoints, dtype=int))\n",
    "true_savepoints = np.shape(steps)[0]\n",
    "\n",
    "configs['fixed'].pop('epochs', None)\n",
    "configs['fixed'].pop('savepoints', None)\n",
    "configs['fixed'].pop('logdir', None)\n",
    "configs['fixed'].pop('epochs', None)\n",
    "configs['fixed'].pop('D', None)"
   ]
  },
  {
   "cell_type": "code",
   "execution_count": 16,
   "id": "5a6c06df",
   "metadata": {},
   "outputs": [
    {
     "ename": "XlaRuntimeError",
     "evalue": "UNKNOWN: /Users/nishil/Documents/PhD/Gatsby/projects/Collective-learning-/main_exp.py:66:10: error: failed to legalize operation 'mhlo.cholesky'\n    X_s = random.multivariate_normal(key, mean=jnp.zeros(D), cov=jnp.eye(D), shape=(n, T, D))\n         ^\n/Users/nishil/Documents/PhD/Gatsby/projects/Collective-learning-/main_exp.py:66:10: note: called from\n    X_s = random.multivariate_normal(key, mean=jnp.zeros(D), cov=jnp.eye(D), shape=(n, T, D))\n         ^\n/Users/nishil/Documents/PhD/Gatsby/projects/Collective-learning-/main_exp.py:191:14: note: called from\n        X_s = sample_observations(T, D, n, x_key)\n             ^\n/var/folders/tl/vb6mhsbs0076vp9s0l10rkg80000gn/T/ipykernel_66140/307626768.py:5:37: note: called from\n<frozen runpy>:88:4: note: called from\n<frozen runpy>:198:11: note: called from\n/Users/nishil/Documents/PhD/Gatsby/projects/Collective-learning-/main_exp.py:66:10: note: see current operation: %108 = \"mhlo.cholesky\"(%107) {lower = true} : (tensor<16x16xf32>) -> tensor<16x16xf32>\n    X_s = random.multivariate_normal(key, mean=jnp.zeros(D), cov=jnp.eye(D), shape=(n, T, D))\n         ^\n",
     "output_type": "error",
     "traceback": [
      "\u001b[31m---------------------------------------------------------------------------\u001b[39m",
      "\u001b[31mXlaRuntimeError\u001b[39m                           Traceback (most recent call last)",
      "\u001b[36mCell\u001b[39m\u001b[36m \u001b[39m\u001b[32mIn[16]\u001b[39m\u001b[32m, line 3\u001b[39m\n\u001b[32m      1\u001b[39m \u001b[38;5;28;01mfrom\u001b[39;00m\u001b[38;5;250m \u001b[39m\u001b[34;01mmain_exp\u001b[39;00m\u001b[38;5;250m \u001b[39m\u001b[38;5;28;01mimport\u001b[39;00m sample_observations\n\u001b[32m      2\u001b[39m x_key = create_key(random_seed())\n\u001b[32m----> \u001b[39m\u001b[32m3\u001b[39m X_s = \u001b[43msample_observations\u001b[49m\u001b[43m(\u001b[49m\u001b[43mT\u001b[49m\u001b[43m,\u001b[49m\u001b[43m \u001b[49m\u001b[43mD\u001b[49m\u001b[43m,\u001b[49m\u001b[43m \u001b[49m\u001b[43mn\u001b[49m\u001b[43m,\u001b[49m\u001b[43m \u001b[49m\u001b[43mx_key\u001b[49m\u001b[43m)\u001b[49m\n",
      "\u001b[36mFile \u001b[39m\u001b[32m~/Documents/PhD/Gatsby/projects/Collective-learning-/main_exp.py:66\u001b[39m, in \u001b[36msample_observations\u001b[39m\u001b[34m(T, D, n, key)\u001b[39m\n\u001b[32m     65\u001b[39m \u001b[38;5;28;01mdef\u001b[39;00m\u001b[38;5;250m \u001b[39m\u001b[34msample_observations\u001b[39m(T, D, n, key):\n\u001b[32m---> \u001b[39m\u001b[32m66\u001b[39m     X_s = \u001b[43mrandom\u001b[49m\u001b[43m.\u001b[49m\u001b[43mmultivariate_normal\u001b[49m\u001b[43m(\u001b[49m\u001b[43mkey\u001b[49m\u001b[43m,\u001b[49m\u001b[43m \u001b[49m\u001b[43mmean\u001b[49m\u001b[43m=\u001b[49m\u001b[43mjnp\u001b[49m\u001b[43m.\u001b[49m\u001b[43mzeros\u001b[49m\u001b[43m(\u001b[49m\u001b[43mD\u001b[49m\u001b[43m)\u001b[49m\u001b[43m,\u001b[49m\u001b[43m \u001b[49m\u001b[43mcov\u001b[49m\u001b[43m=\u001b[49m\u001b[43mjnp\u001b[49m\u001b[43m.\u001b[49m\u001b[43meye\u001b[49m\u001b[43m(\u001b[49m\u001b[43mD\u001b[49m\u001b[43m)\u001b[49m\u001b[43m,\u001b[49m\u001b[43m \u001b[49m\u001b[43mshape\u001b[49m\u001b[43m=\u001b[49m\u001b[43m(\u001b[49m\u001b[43mn\u001b[49m\u001b[43m,\u001b[49m\u001b[43m \u001b[49m\u001b[43mT\u001b[49m\u001b[43m,\u001b[49m\u001b[43m \u001b[49m\u001b[43mD\u001b[49m\u001b[43m)\u001b[49m\u001b[43m)\u001b[49m\n\u001b[32m     67\u001b[39m     \u001b[38;5;28;01mreturn\u001b[39;00m X_s\n",
      "\u001b[36mFile \u001b[39m\u001b[32m~/miniforge3/envs/jax_metal_gpu/lib/python3.11/site-packages/jax/_src/random.py:782\u001b[39m, in \u001b[36mmultivariate_normal\u001b[39m\u001b[34m(key, mean, cov, shape, dtype, method)\u001b[39m\n\u001b[32m    780\u001b[39m \u001b[38;5;28;01mif\u001b[39;00m shape \u001b[38;5;129;01mis\u001b[39;00m \u001b[38;5;129;01mnot\u001b[39;00m \u001b[38;5;28;01mNone\u001b[39;00m:\n\u001b[32m    781\u001b[39m   shape = core.canonicalize_shape(shape)\n\u001b[32m--> \u001b[39m\u001b[32m782\u001b[39m \u001b[38;5;28;01mreturn\u001b[39;00m \u001b[43m_multivariate_normal\u001b[49m\u001b[43m(\u001b[49m\u001b[43mkey\u001b[49m\u001b[43m,\u001b[49m\u001b[43m \u001b[49m\u001b[43mmean\u001b[49m\u001b[43m,\u001b[49m\u001b[43m \u001b[49m\u001b[43mcov\u001b[49m\u001b[43m,\u001b[49m\u001b[43m \u001b[49m\u001b[43mshape\u001b[49m\u001b[43m,\u001b[49m\u001b[43m \u001b[49m\u001b[43mdtype\u001b[49m\u001b[43m,\u001b[49m\u001b[43m \u001b[49m\u001b[43mmethod\u001b[49m\u001b[43m)\u001b[49m\n",
      "    \u001b[31m[... skipping hidden 10 frame]\u001b[39m\n",
      "\u001b[36mFile \u001b[39m\u001b[32m~/miniforge3/envs/jax_metal_gpu/lib/python3.11/site-packages/jax/_src/compiler.py:315\u001b[39m, in \u001b[36mbackend_compile\u001b[39m\u001b[34m(backend, module, options, host_callbacks)\u001b[39m\n\u001b[32m    309\u001b[39m     \u001b[38;5;28;01mreturn\u001b[39;00m backend.compile(\n\u001b[32m    310\u001b[39m         built_c, compile_options=options, host_callbacks=host_callbacks\n\u001b[32m    311\u001b[39m     )\n\u001b[32m    312\u001b[39m   \u001b[38;5;66;03m# Some backends don't have `host_callbacks` option yet\u001b[39;00m\n\u001b[32m    313\u001b[39m   \u001b[38;5;66;03m# TODO(sharadmv): remove this fallback when all backends allow `compile`\u001b[39;00m\n\u001b[32m    314\u001b[39m   \u001b[38;5;66;03m# to take in `host_callbacks`\u001b[39;00m\n\u001b[32m--> \u001b[39m\u001b[32m315\u001b[39m   \u001b[38;5;28;01mreturn\u001b[39;00m \u001b[43mbackend\u001b[49m\u001b[43m.\u001b[49m\u001b[43mcompile\u001b[49m\u001b[43m(\u001b[49m\u001b[43mbuilt_c\u001b[49m\u001b[43m,\u001b[49m\u001b[43m \u001b[49m\u001b[43mcompile_options\u001b[49m\u001b[43m=\u001b[49m\u001b[43moptions\u001b[49m\u001b[43m)\u001b[49m\n\u001b[32m    316\u001b[39m \u001b[38;5;28;01mexcept\u001b[39;00m xc.XlaRuntimeError \u001b[38;5;28;01mas\u001b[39;00m e:\n\u001b[32m    317\u001b[39m   \u001b[38;5;28;01mfor\u001b[39;00m error_handler \u001b[38;5;129;01min\u001b[39;00m _XLA_RUNTIME_ERROR_HANDLERS:\n",
      "\u001b[31mXlaRuntimeError\u001b[39m: UNKNOWN: /Users/nishil/Documents/PhD/Gatsby/projects/Collective-learning-/main_exp.py:66:10: error: failed to legalize operation 'mhlo.cholesky'\n    X_s = random.multivariate_normal(key, mean=jnp.zeros(D), cov=jnp.eye(D), shape=(n, T, D))\n         ^\n/Users/nishil/Documents/PhD/Gatsby/projects/Collective-learning-/main_exp.py:66:10: note: called from\n    X_s = random.multivariate_normal(key, mean=jnp.zeros(D), cov=jnp.eye(D), shape=(n, T, D))\n         ^\n/Users/nishil/Documents/PhD/Gatsby/projects/Collective-learning-/main_exp.py:191:14: note: called from\n        X_s = sample_observations(T, D, n, x_key)\n             ^\n/var/folders/tl/vb6mhsbs0076vp9s0l10rkg80000gn/T/ipykernel_66140/307626768.py:5:37: note: called from\n<frozen runpy>:88:4: note: called from\n<frozen runpy>:198:11: note: called from\n/Users/nishil/Documents/PhD/Gatsby/projects/Collective-learning-/main_exp.py:66:10: note: see current operation: %108 = \"mhlo.cholesky\"(%107) {lower = true} : (tensor<16x16xf32>) -> tensor<16x16xf32>\n    X_s = random.multivariate_normal(key, mean=jnp.zeros(D), cov=jnp.eye(D), shape=(n, T, D))\n         ^\n"
     ]
    }
   ],
   "source": [
    "from main_exp import sample_observations\n",
    "x_key = create_key(random_seed())\n",
    "X_s = sample_observations(T, D, n, x_key)"
   ]
  },
  {
   "cell_type": "code",
   "execution_count": null,
   "id": "6bf9929b",
   "metadata": {},
   "outputs": [],
   "source": []
  }
 ],
 "metadata": {
  "kernelspec": {
   "display_name": "jax_metal_gpu",
   "language": "python",
   "name": "python3"
  },
  "language_info": {
   "codemirror_mode": {
    "name": "ipython",
    "version": 3
   },
   "file_extension": ".py",
   "mimetype": "text/x-python",
   "name": "python",
   "nbconvert_exporter": "python",
   "pygments_lexer": "ipython3",
   "version": "3.11.12"
  }
 },
 "nbformat": 4,
 "nbformat_minor": 5
}
